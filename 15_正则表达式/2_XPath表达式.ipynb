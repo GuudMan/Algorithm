{
 "cells": [
  {
   "cell_type": "code",
   "execution_count": 14,
   "metadata": {
    "collapsed": true
   },
   "outputs": [
    {
     "name": "stdout",
     "output_type": "stream",
     "text": [
      "6530\n"
     ]
    }
   ],
   "source": [
    "import urllib\n",
    "from urllib import request\n",
    "data_jd = request.urlopen(\"https://cn.bing.com/\").read().decode(\"utf-8\", \"ignore\")\n",
    "print(len(data_jd))"
   ]
  },
  {
   "cell_type": "code",
   "execution_count": 15,
   "outputs": [
    {
     "data": {
      "text/plain": "['必应']"
     },
     "execution_count": 15,
     "metadata": {},
     "output_type": "execute_result"
    }
   ],
   "source": [
    "import re\n",
    "pat = \"<title>(.*?)</title>\"  # 表达式\n",
    "re.compile(pat, re.S).findall(data_jd)"
   ],
   "metadata": {
    "collapsed": false,
    "pycharm": {
     "name": "#%%\n"
    }
   }
  },
  {
   "cell_type": "code",
   "execution_count": 16,
   "outputs": [
    {
     "data": {
      "text/plain": "['CSDN - 专业开发者社区']"
     },
     "execution_count": 16,
     "metadata": {},
     "output_type": "execute_result"
    }
   ],
   "source": [
    "# 爬到内存中\n",
    "data_csdn = request.urlopen(\"https://www.csdn.net\").read().decode(\"utf-8\", \"ignore\")\n",
    "re.compile(pat, re.S).findall(data_csdn)"
   ],
   "metadata": {
    "collapsed": false,
    "pycharm": {
     "name": "#%%\n"
    }
   }
  },
  {
   "cell_type": "code",
   "execution_count": 19,
   "outputs": [
    {
     "data": {
      "text/plain": "('./jd.html', <http.client.HTTPMessage at 0x22e590fe190>)"
     },
     "execution_count": 19,
     "metadata": {},
     "output_type": "execute_result"
    }
   ],
   "source": [
    "# 将直接爬取的数据保存到硬盘中\n",
    "url_jd = \"https://baidu.com/\"\n",
    "save_path = \"./jd.html\"\n",
    "request.urlretrieve(url_jd, filename=save_path)"
   ],
   "metadata": {
    "collapsed": false,
    "pycharm": {
     "name": "#%%\n"
    }
   }
  },
  {
   "cell_type": "code",
   "execution_count": 22,
   "outputs": [
    {
     "name": "stdout",
     "output_type": "stream",
     "text": [
      "403904\n"
     ]
    }
   ],
   "source": [
    "# 浏览器伪装\n",
    "opener = request.build_opener()  # 场景opener对象\n",
    "user_agent_key = \"User-Agent\"\n",
    "user_agent_value = \"Mozilla/5.0 (Windows NT 10.0; Win64; x64) AppleWebKit/537.36 (KHTML, like Gecko) Chrome/80.0.3987.163 Safari/537.36\"\n",
    "user_agent_info = (user_agent_key, user_agent_value)\n",
    "opener.addheaders = [user_agent_info]  # 修改头信息\n",
    "request.install_opener(opener)  # 将opener对象设置为全局有效\n",
    "data = request.urlopen(url_jd).read().decode(\"utf-8\", \"ignore\")\n",
    "print(len(data))"
   ],
   "metadata": {
    "collapsed": false,
    "pycharm": {
     "name": "#%%\n"
    }
   }
  },
  {
   "cell_type": "code",
   "execution_count": null,
   "outputs": [],
   "source": [
    "# 用户代理池\n",
    "# 多个浏览器的标识构成用户代理池， 在使用时随机的选择一个去访问， 以防被反爬\n",
    "import random\n",
    "user_agent_pools = [\n",
    "    \"Mozilla/5.0 (Windows; U; Windows NT 6.1; en-US) AppleWebKit/532.5 (KHTML, like Gecko) Chrome/4.0.249.0 Safari/532.5\",\n",
    "    \"Mozilla/5.0 (Windows; U; Windows NT 5.2; en-US) AppleWebKit/532.9 (KHTML, like Gecko) Chrome/5.0.310.0 Safari/532.9\",\n",
    "    \"Mozilla/5.0 (Windows; U; Windows NT 5.1; en-US) AppleWebKit/534.7 (KHTML, like Gecko) Chrome/7.0.514.0 Safari/534.7\",\n",
    "    \"Mozilla/5.0 (Windows; U; Windows NT 6.0; en-US) AppleWebKit/534.14 (KHTML, like Gecko) Chrome/9.0.601.0 Safari/534.14\",\n",
    "    \"Mozilla/5.0 (Windows; U; Windows NT 6.1; en-US) AppleWebKit/534.14 (KHTML, like Gecko) Chrome/10.0.601.0 Safari/534.14\",\n",
    "]\n",
    "user_agent_key = \"User-Agent\"\n",
    "user_agent_value = \"Mozilla/5.0 (Windows NT 10.0; Win64; x64) AppleWebKit/537.36 (KHTML, like Gecko) Chrome/80.0.3987.163 Safari/537.36\"\n",
    "user_agent_info = (user_agent_key, user_agent_value)\n",
    "\n",
    "url_jd = \"https://www.jd.com\"\n",
    "\n",
    "\n",
    "def user_agent_func(pools, user_agent):\n",
    "    opener = request.build_opener()\n",
    "    pool_choice = random.choice(pools)\n",
    "    user_agent = (\"User-Agent\", pool_choice)\n",
    "    opener.addheaders = [user_agent]\n",
    "    request.install_opener(opener)\n",
    "    print(\"当前使用的用户代理为： \", pool_choice)\n",
    "\n",
    "# 每爬两次换一次用户代理\n",
    "for i in range(0, 6):\n",
    "    if i % 1 == 0:\n",
    "        user_agent_func(user_agent_pools, user_agent_info)\n",
    "    data_jd = urllib.request.urlopen(url_jd).read().decode(\"utf-8\", \"ignore\")\n",
    "    print(len(data_jd))"
   ],
   "metadata": {
    "collapsed": false,
    "pycharm": {
     "name": "#%%\n"
    }
   }
  },
  {
   "cell_type": "code",
   "execution_count": 26,
   "outputs": [
    {
     "name": "stdout",
     "output_type": "stream",
     "text": [
      "当前使用的用户代理为：  Mozilla/5.0 (Windows; U; Windows NT 5.1; en-US) AppleWebKit/534.7 (KHTML, like Gecko) Chrome/7.0.514.0 Safari/534.7\n",
      "<urlopen error [WinError 10060] 由于连接方在一段时间后没有正确答复或连接的主机没有反应，连接尝试失败。>\n"
     ]
    }
   ],
   "source": [
    "# 分析流程\n",
    "## 1、取什么数据？\n",
    "## 内容字段：<div class=\"main-text\">\n",
    "'''\n",
    "<div class=\"content\">\n",
    "<span>\n",
    "我姐跟我开视频聊天，抱怨她儿子：“你不知道，自从在家上网课，他每天太累了，累的我都心疼！”我大外甥马上过来跟我撒娇：“小姨，我妈都说我累，你是不是得奖励奖励我？”我姐瞬间把手机放下，我盯着天花板听着那边我姐揍娃的动静，一边揍还一边叨叨：“你可不就累坏了么，一整天不是找课本就是找本子，还间歇性找笔找眼镜，还想要奖励\n",
    "...\"\n",
    "</span>\n",
    "\n",
    "</div>\n",
    "'''\n",
    "## 不同页码的网络地址及其规律\n",
    "# 2： https://ww.qiushibaike.com/text/page/2\n",
    "## 构造网址\n",
    "total_page = 1\n",
    "for i in range(0, total_page):\n",
    "    user_agent_func(user_agent_pools, user_agent_info)\n",
    "    page_url = \"https://www.qiushibaike.com/text/page/\"+str(i+1)+\"/\"\n",
    "    try:\n",
    "        data = request.urlopen(page_url).read().decode(\"utf-8\", \"ignore\")\n",
    "        pat = '<div class=\"content\">.*?<span>(.*?)</span>.*?</div>'\n",
    "        rst = re.compile(pat, re.S).findall(data)\n",
    "        for j in range(0, len(rst)):\n",
    "            print(rst[j])\n",
    "            print('----')\n",
    "    except Exception as error:\n",
    "        print(error)"
   ],
   "metadata": {
    "collapsed": false,
    "pycharm": {
     "name": "#%%\n"
    }
   }
  },
  {
   "cell_type": "code",
   "execution_count": null,
   "outputs": [],
   "source": [],
   "metadata": {
    "collapsed": false,
    "pycharm": {
     "name": "#%%\n"
    }
   }
  }
 ],
 "metadata": {
  "kernelspec": {
   "display_name": "Python 3",
   "language": "python",
   "name": "python3"
  },
  "language_info": {
   "codemirror_mode": {
    "name": "ipython",
    "version": 2
   },
   "file_extension": ".py",
   "mimetype": "text/x-python",
   "name": "python",
   "nbconvert_exporter": "python",
   "pygments_lexer": "ipython2",
   "version": "2.7.6"
  }
 },
 "nbformat": 4,
 "nbformat_minor": 0
}