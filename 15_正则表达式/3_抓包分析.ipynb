{
 "cells": [
  {
   "cell_type": "code",
   "execution_count": 3,
   "metadata": {
    "collapsed": true
   },
   "outputs": [
    {
     "name": "stdout",
     "output_type": "stream",
     "text": [
      "第1页的评论为：\n",
      "Unexpected exception formatting exception. Falling back to standard exception\n"
     ]
    },
    {
     "name": "stderr",
     "output_type": "stream",
     "text": [
      "Traceback (most recent call last):\n",
      "  File \"D:\\ProgramData\\Anaconda3\\lib\\urllib\\request.py\", line 1346, in do_open\n",
      "    h.request(req.get_method(), req.selector, req.data, headers,\n",
      "  File \"D:\\ProgramData\\Anaconda3\\lib\\http\\client.py\", line 1285, in request\n",
      "    self._send_request(method, url, body, headers, encode_chunked)\n",
      "  File \"D:\\ProgramData\\Anaconda3\\lib\\http\\client.py\", line 1331, in _send_request\n",
      "    self.endheaders(body, encode_chunked=encode_chunked)\n",
      "  File \"D:\\ProgramData\\Anaconda3\\lib\\http\\client.py\", line 1280, in endheaders\n",
      "    self._send_output(message_body, encode_chunked=encode_chunked)\n",
      "  File \"D:\\ProgramData\\Anaconda3\\lib\\http\\client.py\", line 1040, in _send_output\n",
      "    self.send(msg)\n",
      "  File \"D:\\ProgramData\\Anaconda3\\lib\\http\\client.py\", line 980, in send\n",
      "    self.connect()\n",
      "  File \"D:\\ProgramData\\Anaconda3\\lib\\http\\client.py\", line 1447, in connect\n",
      "    super().connect()\n",
      "  File \"D:\\ProgramData\\Anaconda3\\lib\\http\\client.py\", line 946, in connect\n",
      "    self.sock = self._create_connection(\n",
      "  File \"D:\\ProgramData\\Anaconda3\\lib\\socket.py\", line 823, in create_connection\n",
      "    for res in getaddrinfo(host, port, 0, SOCK_STREAM):\n",
      "  File \"D:\\ProgramData\\Anaconda3\\lib\\socket.py\", line 954, in getaddrinfo\n",
      "    for res in _socket.getaddrinfo(host, port, family, type, proto, flags):\n",
      "socket.gaierror: [Errno 11004] getaddrinfo failed\n",
      "\n",
      "During handling of the above exception, another exception occurred:\n",
      "\n",
      "Traceback (most recent call last):\n",
      "  File \"D:\\ProgramData\\Anaconda3\\lib\\site-packages\\IPython\\core\\interactiveshell.py\", line 3398, in run_code\n",
      "    exec(code_obj, self.user_global_ns, self.user_ns)\n",
      "  File \"C:\\Users\\szyh\\AppData\\Local\\Temp\\ipykernel_21816\\2511979752.py\", line 10, in <cell line: 7>\n",
      "    data = request.urlopen(url).read().decode(\"utf-8\",\"ignore\")\n",
      "  File \"D:\\ProgramData\\Anaconda3\\lib\\urllib\\request.py\", line 214, in urlopen\n",
      "    return opener.open(url, data, timeout)\n",
      "  File \"D:\\ProgramData\\Anaconda3\\lib\\urllib\\request.py\", line 517, in open\n",
      "    response = self._open(req, data)\n",
      "  File \"D:\\ProgramData\\Anaconda3\\lib\\urllib\\request.py\", line 534, in _open\n",
      "    result = self._call_chain(self.handle_open, protocol, protocol +\n",
      "  File \"D:\\ProgramData\\Anaconda3\\lib\\urllib\\request.py\", line 494, in _call_chain\n",
      "    result = func(*args)\n",
      "  File \"D:\\ProgramData\\Anaconda3\\lib\\urllib\\request.py\", line 1389, in https_open\n",
      "    return self.do_open(http.client.HTTPSConnection, req,\n",
      "  File \"D:\\ProgramData\\Anaconda3\\lib\\urllib\\request.py\", line 1349, in do_open\n",
      "    raise URLError(err)\n",
      "urllib.error.URLError: <urlopen error [Errno 11004] getaddrinfo failed>\n",
      "\n",
      "During handling of the above exception, another exception occurred:\n",
      "\n",
      "Traceback (most recent call last):\n",
      "  File \"D:\\ProgramData\\Anaconda3\\lib\\site-packages\\IPython\\core\\interactiveshell.py\", line 1993, in showtraceback\n",
      "    stb = self.InteractiveTB.structured_traceback(\n",
      "  File \"D:\\ProgramData\\Anaconda3\\lib\\site-packages\\IPython\\core\\ultratb.py\", line 1118, in structured_traceback\n",
      "    return FormattedTB.structured_traceback(\n",
      "  File \"D:\\ProgramData\\Anaconda3\\lib\\site-packages\\IPython\\core\\ultratb.py\", line 1012, in structured_traceback\n",
      "    return VerboseTB.structured_traceback(\n",
      "  File \"D:\\ProgramData\\Anaconda3\\lib\\site-packages\\IPython\\core\\ultratb.py\", line 865, in structured_traceback\n",
      "    formatted_exception = self.format_exception_as_a_whole(etype, evalue, etb, number_of_lines_of_context,\n",
      "  File \"D:\\ProgramData\\Anaconda3\\lib\\site-packages\\IPython\\core\\ultratb.py\", line 799, in format_exception_as_a_whole\n",
      "    self.get_records(etb, number_of_lines_of_context, tb_offset) if etb else []\n",
      "  File \"D:\\ProgramData\\Anaconda3\\lib\\site-packages\\IPython\\core\\ultratb.py\", line 845, in get_records\n",
      "    style = stack_data.style_with_executing_node(style, \"bg:ansiyellow\")\n",
      "  File \"D:\\ProgramData\\Anaconda3\\lib\\site-packages\\stack_data\\core.py\", line 424, in style_with_executing_node\n",
      "    class NewStyle(style):\n",
      "  File \"D:\\ProgramData\\Anaconda3\\lib\\site-packages\\pygments\\style.py\", line 91, in __new__\n",
      "    ndef[4] = colorformat(styledef[3:])\n",
      "  File \"D:\\ProgramData\\Anaconda3\\lib\\site-packages\\pygments\\style.py\", line 58, in colorformat\n",
      "    assert False, \"wrong color format %r\" % text\n",
      "AssertionError: wrong color format 'ansiyellow'\n"
     ]
    }
   ],
   "source": [
    "from urllib import request\n",
    "import re\n",
    "\n",
    "content_cursor = \"6408214507379208458\" #第一页评论数据的cursor\n",
    "total_page = 6\n",
    "\n",
    "for i in range(0,total_page):\n",
    "    print(f\"第{str(i+1)}页的评论为：\")\n",
    "    url = \"https://video.coral.qq.com/varticle/1002323636/comment/v2?callback=_varticle1002323636commentv2&orinum=10&oriorder=o&pageflag=1&cursor=\"+str(content_cursor)+\"&scorecursor=0&orirepnum=2&reporder=o&reppageflag=1&source=132&_=1586005285727\"\n",
    "    data = request.urlopen(url).read().decode(\"utf-8\",\"ignore\")\n",
    "    pat_start = '\"content\":\"(.*?)\"' #正则表达式\n",
    "    comment = re.compile(pat_start, re.S).findall(data)\n",
    "    for item in comment:\n",
    "        print(str(item))\n",
    "        #print(eval('u\"'+str(item)+'\"'))\n",
    "        print(\"------\")\n",
    "    pat_next = '\"last\":\"(.*?)\"'\n",
    "    content_cursor = re.compile(pat_next, re.S).findall(data)[0] #更新cursor"
   ]
  },
  {
   "cell_type": "code",
   "execution_count": null,
   "outputs": [],
   "source": [],
   "metadata": {
    "collapsed": false,
    "pycharm": {
     "name": "#%%\n"
    }
   }
  }
 ],
 "metadata": {
  "kernelspec": {
   "display_name": "Python 3",
   "language": "python",
   "name": "python3"
  },
  "language_info": {
   "codemirror_mode": {
    "name": "ipython",
    "version": 2
   },
   "file_extension": ".py",
   "mimetype": "text/x-python",
   "name": "python",
   "nbconvert_exporter": "python",
   "pygments_lexer": "ipython2",
   "version": "2.7.6"
  }
 },
 "nbformat": 4,
 "nbformat_minor": 0
}