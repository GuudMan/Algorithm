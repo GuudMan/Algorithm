{
 "cells": [
  {
   "cell_type": "code",
   "execution_count": 4,
   "metadata": {
    "collapsed": true
   },
   "outputs": [
    {
     "name": "stdout",
     "output_type": "stream",
     "text": [
      "Cats are smarter than dogs\n",
      "Cats\n",
      "smarter\n"
     ]
    }
   ],
   "source": [
    "import re\n",
    "line = \"Cats are smarter than dogs\"\n",
    "matchObj = re.match(r'(.*) are (.*?) .*', line , re.M|re.I)\n",
    "print(matchObj.group())\n",
    "print(matchObj.group(1))\n",
    "print(matchObj.group(2))"
   ]
  },
  {
   "cell_type": "code",
   "execution_count": 6,
   "outputs": [
    {
     "name": "stdout",
     "output_type": "stream",
     "text": [
      "<re.Match object; span=(0, 4), match='blog'>\n",
      "(5, 9)\n",
      "(10, 13)\n"
     ]
    }
   ],
   "source": [
    "import re\n",
    "print(re.search('blog', 'blog.csdn.net').span())  # 在起始位置匹配\n",
    "print(re.search('csdn', 'blog.csdn.net').span())  # 不在起始位置匹配\n",
    "print(re.search('net', 'blog.csdn.net').span())   # 不在起始位置匹配"
   ],
   "metadata": {
    "collapsed": false,
    "pycharm": {
     "name": "#%%\n"
    }
   }
  },
  {
   "cell_type": "code",
   "execution_count": null,
   "outputs": [],
   "source": [
    "line = \"Cats are smarter than dogs\"\n",
    "matchObj = re.search(r'')"
   ],
   "metadata": {
    "collapsed": false,
    "pycharm": {
     "name": "#%%\n"
    }
   }
  }
 ],
 "metadata": {
  "kernelspec": {
   "display_name": "Python 3",
   "language": "python",
   "name": "python3"
  },
  "language_info": {
   "codemirror_mode": {
    "name": "ipython",
    "version": 2
   },
   "file_extension": ".py",
   "mimetype": "text/x-python",
   "name": "python",
   "nbconvert_exporter": "python",
   "pygments_lexer": "ipython2",
   "version": "2.7.6"
  }
 },
 "nbformat": 4,
 "nbformat_minor": 0
}